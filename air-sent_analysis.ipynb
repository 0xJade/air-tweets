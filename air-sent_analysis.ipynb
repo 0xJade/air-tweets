{
 "cells": [
  {
   "cell_type": "markdown",
   "metadata": {},
   "source": [
    "# __ULMFiT Sentiment Analysis of US Airlines__"
   ]
  },
  {
   "cell_type": "markdown",
   "metadata": {},
   "source": [
    "## Chapter 1. ULMFiT Intro\n",
    "---\n",
    "---"
   ]
  },
  {
   "cell_type": "markdown",
   "metadata": {},
   "source": [
    "\n",
    "[ULMFiT Resource - Howard, Ruder 2018](https://arxiv.org/pdf/1801.06146.pdf)\n",
    "\n",
    "## I. ___The Whats...___\n",
    "---\n",
    "#### _i. What is ULMFiT?_\n",
    "- Universal Language Model Fine-tuning for Text Classification\n",
    "- Uses transfer learning method\n",
    "---\n",
    "#### _ii. What are ULMFiT's benefits?_\n",
    "\n",
    "  - Addresses NLP problems with small datasets and computational resources\n",
    "  - Makes NLP problems easier to solve\n",
    "  - Outperforms state of the art methods on 6 separate text classification tasks\n",
    "  - Reduces error 18-24% on majority of datasets\n",
    "  - matches performance of training from scratch with only 100 labeled samples!!!\n",
    "---\n",
    "#### _iii. What is Transfer Learning?_\n",
    "- A ML problem that stores knowledge gained from solving one problem that directly applies or transfers that knowledge to a related problem\n",
    "- Common approach is by fine tuning original model\n",
    "- Simple models use a single layer of weights (embeddings)"
   ]
  },
  {
   "cell_type": "markdown",
   "metadata": {},
   "source": [
    "## II. ___The Whys___\n",
    "---\n",
    "\n",
    "#### a. ULMFiT - Why is it significant? & Findings\n",
    "\n",
    "- Controlling how fast the model learns allows for better adaptability\n",
    "- Learns well from a limited number of examples\n",
    "- Performs better than traditional NLP methods\n",
    "- Requires magnitude of 100X less data than current state of the art methods"
   ]
  },
  {
   "cell_type": "markdown",
   "metadata": {},
   "source": [
    "## III. ___The Hows___\n",
    "---------\n",
    "#### i. Pretrain Language Model on general corpus\n",
    "- Preprocess data, normalize, drop nas, use Average SWD Long Short Term Memory Model\n",
    "\n",
    "#### ii. Fine-tune new dataset\n",
    "- Apply\n",
    "    - Discriminative fine-tuning\n",
    "        - Tunes each layer in neural network with different learning rates\n",
    "        - Stochastic gradient descent accounts for another variable - theta with respect to the layer\n",
    "    - Slanted triangular learning rate\n",
    "        - For adapting params, we want the model to converge quickly\n",
    "        - First linearly increases learning rate\n",
    "        - Then linearly decays\n",
    "\n",
    "#### iii. Text classifier"
   ]
  },
  {
   "cell_type": "code",
   "execution_count": 3,
   "metadata": {},
   "outputs": [],
   "source": [
    "# -----------------------------------\n",
    "# import dependencies\n",
    "# -----------------------------------\n",
    "import io\n",
    "import os\n",
    "import re\n",
    "import sys\n",
    "import fastai\n",
    "from fastai import *\n",
    "from fastai.text import *\n",
    "from functools import partial\n",
    "from nltk.corpus import stopwords\n",
    "import numpy as np\n",
    "import pandas as pd\n",
    "from pynvml import *\n",
    "from sklearn.model_selection import train_test_split, GridSearchCV\n",
    "import seaborn as sns\n",
    "import nltk\n",
    "import ssl\n",
    "try:\n",
    "    _create_unverified_https_context = ssl._create_unverified_context\n",
    "except AttributeError:\n",
    "    pass\n",
    "else:\n",
    "    ssl._create_default_https_context = _create_unverified_https_context"
   ]
  },
  {
   "cell_type": "code",
   "execution_count": 2,
   "metadata": {},
   "outputs": [
    {
     "name": "stdout",
     "output_type": "stream",
     "text": [
      "93.9 µs ± 23.9 µs per loop (mean ± std. dev. of 7 runs, 1 loop each)\n"
     ]
    }
   ],
   "source": [
    "# setup gpu for faster train times\n",
    "t_gpu = torch.rand(500, 500, 500).cuda()\n",
    "%timeit t_gpu @ t_gpu"
   ]
  },
  {
   "cell_type": "markdown",
   "metadata": {},
   "source": [
    "# Chapter I. Preprocess Data\n",
    "---"
   ]
  },
  {
   "cell_type": "code",
   "execution_count": 4,
   "metadata": {},
   "outputs": [
    {
     "data": {
      "image/png": "[encoded data removed]",
      "text/plain": [
       "<Figure size 1080x504 with 1 Axes>"
      ]
     },
     "metadata": {},
     "output_type": "display_data"
    }
   ],
   "source": [
    "# -----------------------------------\n",
    "# a. Load Data\n",
    "# -----------------------------------\n",
    "df = pd.read_csv('resources/Tweets.csv', encoding='ISO-8859-1')\n",
    "# -----------------------------------\n",
    "# b. Visualize Sentiment\n",
    "# -----------------------------------\n",
    "sns.set(style=\"darkgrid\")\n",
    "sns.set(rc={'figure.figsize':(15,7)})\n",
    "sns.countplot(x=\"airline\", hue='airline_sentiment', data=df)\n",
    "plt.title(\"Airline Sentiment For Each Airline\");\n",
    "df = pd.DataFrame({'text': df.text, 'label': df.airline_sentiment})"
   ]
  },
  {
   "cell_type": "code",
   "execution_count": 5,
   "metadata": {},
   "outputs": [],
   "source": [
    "# -----------------------------------\n",
    "# c. Encode Categories as Int Type\n",
    "# -----------------------------------\n",
    "label_dict = {'negative': 0, 'neutral': 2, 'positive': 4}\n",
    "df.label = df.label \\\n",
    "  .apply(lambda x: label_dict[x])\n",
    "# -----------------------------------\n",
    "# d. Preprocess - Clean\n",
    "#    ==================\n",
    "#    - Replace airline tag to reduce\n",
    "#      error in model\n",
    "#    - Check NA counts\n",
    "# -----------------------------------\n",
    "regex = r\"@(VirginAmerica|united|SouthwestAir|Delta|USAirways|AmericanAir)\"\n",
    "df['text'] = df['text'].apply( \\\n",
    "  lambda x: re.sub(regex, '@airline', x, flags=re.IGNORECASE))\n",
    "df.text = df.text.str.replace(\"[^a-zA-Z]\", \" \")"
   ]
  },
  {
   "cell_type": "code",
   "execution_count": 6,
   "metadata": {},
   "outputs": [
    {
     "name": "stdout",
     "output_type": "stream",
     "text": [
      "Airline Sentiment Value Counts\n",
      "0    9178\n",
      "2    3099\n",
      "4    2363\n",
      "Name: label, dtype: int64\n",
      "\n",
      "Text NaN Counts\n",
      "text     0\n",
      "label    0\n",
      "dtype: int64\n"
     ]
    }
   ],
   "source": [
    "# -----------------------------------\n",
    "# e. Check Distribution of Labels to\n",
    "#    Reduce Bias\n",
    "# -----------------------------------\n",
    "print('Airline Sentiment Value Counts\\n' + \n",
    "      f'{df.label.value_counts()}')\n",
    "print('\\nText NaN Counts\\n' + \n",
    "      f'{df.isna().sum()}')"
   ]
  },
  {
   "cell_type": "code",
   "execution_count": 8,
   "metadata": {},
   "outputs": [
    {
     "data": {
      "text/plain": [
       "2    3099\n",
       "0    3000\n",
       "4    2363\n",
       "Name: label, dtype: int64"
      ]
     },
     "execution_count": 8,
     "metadata": {},
     "output_type": "execute_result"
    }
   ],
   "source": [
    "# -----------------------------------\n",
    "# f. Create a More Even Distribution\n",
    "#    of Label Types for Model\n",
    "#    ===============================\n",
    "# \n",
    "#      - 3X as more negative labels \n",
    "#        compared to neutral and\n",
    "#        positive\n",
    "# \n",
    "#      - Randomly sample 3,000 negative\n",
    "#        labels to train model with more\n",
    "#        fair representation of data!!!\n",
    "# \n",
    "# -----------------------------------\n",
    "df = pd.concat([ df[ df.label.isin( [2, 4] ) ], \\\n",
    "                 df[ df.label==0].sample(3000) ])\n",
    "df = df.reset_index(drop=True)\n",
    "df.label.value_counts()"
   ]
  },
  {
   "cell_type": "code",
   "execution_count": 7,
   "metadata": {},
   "outputs": [],
   "source": [
    "# -----------------------------------\n",
    "# g. Tokenize\n",
    "# -----------------------------------\n",
    "tokenized = df.text.apply(lambda x: x.split())\n",
    "# -----------------------------------\n",
    "# h. Remove Stopwords\n",
    "# -----------------------------------\n",
    "stop_words = stopwords.words('english')\n",
    "tokenized = tokenized.apply(lambda x: \\\n",
    "  [item for item in x if item.lower() not in stop_words] )\n",
    "# -----------------------------------\n",
    "# i. De-tokenize\n",
    "# -----------------------------------\n",
    "detokenized = []\n",
    "for i in range(len(df)):\n",
    "  toke = ' '.join(tokenized[i])\n",
    "  detokenized.append(toke)\n",
    "df.text = detokenized"
   ]
  },
  {
   "cell_type": "code",
   "execution_count": 8,
   "metadata": {},
   "outputs": [],
   "source": [
    "# -----------------------------------\n",
    "# j. Split into train and validation sets\n",
    "# -----------------------------------\n",
    "trn_data, val_data = train_test_split( df, stratify=df.label, \\\n",
    "                                        test_size=0.4, random_state=12)"
   ]
  },
  {
   "cell_type": "markdown",
   "metadata": {},
   "source": [
    "# _Chapter II. Pretrain & ASGD Weight Dropped LSTM_\n",
    "---\n",
    "[ASGD Weight Dropped LSTM](https://arxiv.org/abs/1708.02182)\n",
    "\n",
    "## I. The Whats\n",
    "\n",
    "- What Language Model Should we Use?\n",
    "\n",
    "  - ULMFiT suggests using ASGD Weight Dropped LSTM for our pretrained model in step 1\n",
    "\n",
    "- What is ASGD Weight-Dropped LSTM?\n",
    "\n",
    "  - It's a popular Long Short Term Memory Language Model (type of Recurrent Neural Network) that has a unique set of regularization techniques to improve performance\n",
    "\n",
    "  - Uses DropConnect on hidden-to-hidden weights as form of recurrent regularization\n",
    "\n",
    "- What is a Recurrent Neural Network?\n",
    "\n",
    "  - Networks with loops to allow for persisting information by passing it from one step of the network to the next\n",
    "\n",
    "  - Take the human brain for example\n",
    "  \n",
    "      - We don't make decisions by starting from scratch\n",
    "      \n",
    "      - Use our past experiences and knowledge to pass judgement and carry out our decision making process\n",
    "\n",
    "  - Can be thought of multiple copies of the same network, passing message to each successor\n",
    "\n",
    "  - RNNs are capable of long term dependencies\n",
    "\n",
    "  - However, there's a point where this gap between relevant information and point where more context is needed grows to be too large for RNNs\n",
    "  \n",
    "    - To a point where they are unable to learn and make connections\n",
    "\n",
    "  - This is where Long Shert Term Memory networks come into play!\n",
    "\n",
    "- What is LSTM?\n",
    "\n",
    "  - Special kind of RNN capable of learning long term dependencies\n",
    "\n",
    "  - Introduced by Hochreiter & Schmidhuber (1997)\n",
    "  \n",
    "    - http://www.bioinf.jku.at/publications/older/2604.pdf\n",
    "\n",
    "  - What sets LSTM apart from a regular RNN?\n",
    "  \n",
    "    - RNNs have form of a chain of repeating modules - with a single tanh layer for the structure\n",
    "    \n",
    "    - Whereas the LSTM has 4 neural network layers of interaction.\n",
    "\n",
    "  - Key to LSTM is cell state - horizontal line running through the entire chain of layers\n",
    "\n",
    "  - Has ability to add/remove information to cell state with structures called gates\n",
    "\n",
    "  - Gates regulate information traffic\n",
    "\n",
    "  - Composed of a sigmoid neural net layer and a pointwise multiplication operator\n",
    "\n",
    "  - Sigmoid layer outputs number 0-1 describing information permeability\n",
    "\n",
    "  - 0 means:\n",
    "\n",
    "  ![](https://media.giphy.com/media/njYrp176NQsHS/giphy.gif)\n",
    "\n",
    "\n",
    "  - 1 means:\n",
    "\n",
    "  ![](https://media.giphy.com/media/lHQuX9d5DBhug/giphy.gif)\n",
    "\n",
    "\n",
    "- What is ASGD Weight Dropped LSTM?\n",
    "\n",
    "  - RNN recurrent connections are prone to overfitting\n",
    "\n",
    "  - Dropouts have been very successful in feed forward and convulational neural networks\n",
    "\n",
    "  - However, applying dropouts similarly to RNN's hidden state is ineffective, disrupts long term retention ability\n",
    "\n",
    "  - To counter this problem, DropConnect is proposed\n",
    "\n",
    "  - Typically in Dropout, randomly selected subset of activations is set to zero within each layer\n",
    "\n",
    "  - DropConnect, instead of activations, randomly selected subset of weights within the network is set to zero\n",
    "\n",
    "  - Each unit receives input from random subset of units in previous layer"
   ]
  },
  {
   "cell_type": "markdown",
   "metadata": {},
   "source": [
    "# Chapter III. Finetune\n",
    "----\n",
    "[Hyper Parameter Fine Tuning - Learning Rate, Momentum, Weight Decay](https://arxiv.org/pdf/1803.09820.pdf)"
   ]
  },
  {
   "cell_type": "code",
   "execution_count": 12,
   "metadata": {},
   "outputs": [
    {
     "name": "stdout",
     "output_type": "stream",
     "text": [
      "CUDA not avail\n"
     ]
    },
    {
     "data": {
      "text/html": [],
      "text/plain": [
       "<IPython.core.display.HTML object>"
      ]
     },
     "metadata": {},
     "output_type": "display_data"
    },
    {
     "data": {
      "text/html": [],
      "text/plain": [
       "<IPython.core.display.HTML object>"
      ]
     },
     "metadata": {},
     "output_type": "display_data"
    },
    {
     "data": {
      "text/html": [],
      "text/plain": [
       "<IPython.core.display.HTML object>"
      ]
     },
     "metadata": {},
     "output_type": "display_data"
    },
    {
     "data": {
      "text/html": [],
      "text/plain": [
       "<IPython.core.display.HTML object>"
      ]
     },
     "metadata": {},
     "output_type": "display_data"
    },
    {
     "data": {
      "text/html": [
       "<table border=\"1\" class=\"dataframe\">\n",
       "  <thead>\n",
       "    <tr style=\"text-align: left;\">\n",
       "      <th>epoch</th>\n",
       "      <th>train_loss</th>\n",
       "      <th>valid_loss</th>\n",
       "      <th>accuracy</th>\n",
       "      <th>time</th>\n",
       "    </tr>\n",
       "  </thead>\n",
       "  <tbody>\n",
       "    <tr>\n",
       "      <td>0</td>\n",
       "      <td>6.081537</td>\n",
       "      <td>4.888709</td>\n",
       "      <td>0.207522</td>\n",
       "      <td>00:02</td>\n",
       "    </tr>\n",
       "    <tr>\n",
       "      <td>1</td>\n",
       "      <td>5.361478</td>\n",
       "      <td>4.638896</td>\n",
       "      <td>0.248058</td>\n",
       "      <td>00:02</td>\n",
       "    </tr>\n",
       "    <tr>\n",
       "      <td>2</td>\n",
       "      <td>4.973433</td>\n",
       "      <td>4.571248</td>\n",
       "      <td>0.254598</td>\n",
       "      <td>00:02</td>\n",
       "    </tr>\n",
       "  </tbody>\n",
       "</table>"
      ],
      "text/plain": [
       "<IPython.core.display.HTML object>"
      ]
     },
     "metadata": {},
     "output_type": "display_data"
    },
    {
     "data": {
      "image/png": "[encoded data removed]",
      "text/plain": [
       "<Figure size 1080x504 with 1 Axes>"
      ]
     },
     "metadata": {},
     "output_type": "display_data"
    }
   ],
   "source": [
    "from universal import *\n",
    "mdl = ULMFiT(max_lr=4e-2)\n",
    "mdl.finetune('label', 'text', trn_data, val_data, drop_mult=0.7, cyc_len=3)"
   ]
  },
  {
   "cell_type": "markdown",
   "metadata": {},
   "source": [
    "# Chapter IV. Classify & Predict\n",
    "---"
   ]
  },
  {
   "cell_type": "code",
   "execution_count": 13,
   "metadata": {},
   "outputs": [
    {
     "name": "stdout",
     "output_type": "stream",
     "text": [
      "CUDA Not Avail...\n"
     ]
    },
    {
     "data": {
      "text/html": [
       "<table border=\"1\" class=\"dataframe\">\n",
       "  <thead>\n",
       "    <tr style=\"text-align: left;\">\n",
       "      <th>epoch</th>\n",
       "      <th>train_loss</th>\n",
       "      <th>valid_loss</th>\n",
       "      <th>accuracy</th>\n",
       "      <th>time</th>\n",
       "    </tr>\n",
       "  </thead>\n",
       "  <tbody>\n",
       "    <tr>\n",
       "      <td>0</td>\n",
       "      <td>0.941172</td>\n",
       "      <td>0.881104</td>\n",
       "      <td>0.594978</td>\n",
       "      <td>00:51</td>\n",
       "    </tr>\n",
       "    <tr>\n",
       "      <td>1</td>\n",
       "      <td>0.946719</td>\n",
       "      <td>0.841319</td>\n",
       "      <td>0.615362</td>\n",
       "      <td>00:50</td>\n",
       "    </tr>\n",
       "    <tr>\n",
       "      <td>2</td>\n",
       "      <td>0.942540</td>\n",
       "      <td>0.876486</td>\n",
       "      <td>0.593205</td>\n",
       "      <td>00:52</td>\n",
       "    </tr>\n",
       "    <tr>\n",
       "      <td>3</td>\n",
       "      <td>0.930938</td>\n",
       "      <td>0.856369</td>\n",
       "      <td>0.595273</td>\n",
       "      <td>00:53</td>\n",
       "    </tr>\n",
       "    <tr>\n",
       "      <td>4</td>\n",
       "      <td>0.933795</td>\n",
       "      <td>0.888923</td>\n",
       "      <td>0.576957</td>\n",
       "      <td>00:53</td>\n",
       "    </tr>\n",
       "    <tr>\n",
       "      <td>5</td>\n",
       "      <td>0.919428</td>\n",
       "      <td>0.865953</td>\n",
       "      <td>0.599409</td>\n",
       "      <td>00:53</td>\n",
       "    </tr>\n",
       "    <tr>\n",
       "      <td>6</td>\n",
       "      <td>0.887331</td>\n",
       "      <td>0.820996</td>\n",
       "      <td>0.617725</td>\n",
       "      <td>00:53</td>\n",
       "    </tr>\n",
       "    <tr>\n",
       "      <td>7</td>\n",
       "      <td>0.893611</td>\n",
       "      <td>0.798951</td>\n",
       "      <td>0.637814</td>\n",
       "      <td>00:53</td>\n",
       "    </tr>\n",
       "    <tr>\n",
       "      <td>8</td>\n",
       "      <td>0.850820</td>\n",
       "      <td>0.824974</td>\n",
       "      <td>0.619202</td>\n",
       "      <td>00:53</td>\n",
       "    </tr>\n",
       "    <tr>\n",
       "      <td>9</td>\n",
       "      <td>0.835078</td>\n",
       "      <td>0.798895</td>\n",
       "      <td>0.629542</td>\n",
       "      <td>00:53</td>\n",
       "    </tr>\n",
       "  </tbody>\n",
       "</table>"
      ],
      "text/plain": [
       "<IPython.core.display.HTML object>"
      ]
     },
     "metadata": {},
     "output_type": "display_data"
    },
    {
     "data": {
      "image/png": "[encoded data removed]",
      "text/plain": [
       "<Figure size 1080x504 with 1 Axes>"
      ]
     },
     "metadata": {},
     "output_type": "display_data"
    }
   ],
   "source": [
    "learner = mdl.classify(cyc_len=10)"
   ]
  },
  {
   "cell_type": "code",
   "execution_count": 15,
   "metadata": {},
   "outputs": [
    {
     "data": {
      "text/plain": [
       "(Category tensor(2), tensor(2), tensor([0.1921, 0.1075, 0.7004]))"
      ]
     },
     "execution_count": 15,
     "metadata": {},
     "output_type": "execute_result"
    }
   ],
   "source": [
    "# testing positive category\n",
    "learner.predict('I love airline, they really care about their customers!')"
   ]
  },
  {
   "cell_type": "code",
   "execution_count": 23,
   "metadata": {},
   "outputs": [
    {
     "data": {
      "text/plain": [
       "(Category tensor(0), tensor(0), tensor([0.5144, 0.1797, 0.3059]))"
      ]
     },
     "execution_count": 23,
     "metadata": {},
     "output_type": "execute_result"
    }
   ],
   "source": [
    "# testing negative category\n",
    "learner.predict('i hate airline, i will never return to them!')"
   ]
  },
  {
   "cell_type": "code",
   "execution_count": 24,
   "metadata": {},
   "outputs": [
    {
     "data": {
      "text/plain": [
       "(Category tensor(0), tensor(0), tensor([0.5612, 0.1234, 0.3155]))"
      ]
     },
     "execution_count": 24,
     "metadata": {},
     "output_type": "execute_result"
    }
   ],
   "source": [
    "# resting neutral category\n",
    "learner.predict('my experience with airline was very average')"
   ]
  },
  {
   "cell_type": "markdown",
   "metadata": {},
   "source": [
    "# Chapter V: Conclusions"
   ]
  },
  {
   "cell_type": "markdown",
   "metadata": {},
   "source": [
    "- With only 8462 data points, I trained with a max learning rate of 4e-2 and received an accuracy of around 62%\n",
    "\n",
    "- The model could've used a bit more training, validation loss was getting close to training, but it was still under training\n",
    "\n",
    "    - This means it is underfitting\n",
    "    \n",
    "    - However, if there were more cycles it looks likely they would converge\n",
    "\n",
    "- Although the model is good at identifying the positive and negative sentiment, the neutral remains challenging\n",
    "\n",
    "- Overall, the ULMFiT model works really well with limited dataset, and performed very well in comparison to other models given the constraint"
   ]
  },
  {
   "cell_type": "code",
   "execution_count": null,
   "metadata": {},
   "outputs": [],
   "source": []
  }
 ],
 "metadata": {
  "kernelspec": {
   "display_name": "Python 3",
   "language": "python",
   "name": "python3"
  },
  "language_info": {
   "codemirror_mode": {
    "name": "ipython",
    "version": 3
   },
   "file_extension": ".py",
   "mimetype": "text/x-python",
   "name": "python",
   "nbconvert_exporter": "python",
   "pygments_lexer": "ipython3",
   "version": "3.7.6"
  }
 },
 "nbformat": 4,
 "nbformat_minor": 4
}
